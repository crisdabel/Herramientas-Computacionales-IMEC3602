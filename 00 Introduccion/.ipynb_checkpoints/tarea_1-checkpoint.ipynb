{
 "cells": [
  {
   "cell_type": "code",
   "execution_count": 8,
   "metadata": {},
   "outputs": [
    {
     "name": "stdout",
     "output_type": "stream",
     "text": [
      "3.1413996\n"
     ]
    }
   ],
   "source": [
    "import random as r\n",
    "import math as m\n",
    "\n",
    "inside = 0\n",
    "n = 10000000\n",
    "\n",
    "\n",
    "for i in range(0,n):\n",
    "    x = r.random()**2\n",
    "    y = r.random()**2\n",
    "    \n",
    "    if m.sqrt(x+y) < 1.0:\n",
    "        inside += 1\n",
    "        \n",
    "pi = (float(inside) / n) *4\n",
    "\n",
    "print(pi)"
   ]
  },
  {
   "cell_type": "code",
   "execution_count": null,
   "metadata": {},
   "outputs": [],
   "source": []
  },
  {
   "cell_type": "code",
   "execution_count": null,
   "metadata": {},
   "outputs": [],
   "source": []
  }
 ],
 "metadata": {
  "kernelspec": {
   "display_name": "Python 3.6",
   "language": "python",
   "name": "python36"
  },
  "language_info": {
   "codemirror_mode": {
    "name": "ipython",
    "version": 3
   },
   "file_extension": ".py",
   "mimetype": "text/x-python",
   "name": "python",
   "nbconvert_exporter": "python",
   "pygments_lexer": "ipython3",
   "version": "3.6.3"
  }
 },
 "nbformat": 4,
 "nbformat_minor": 2
}
