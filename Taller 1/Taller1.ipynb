{
 "cells": [
  {
   "cell_type": "code",
   "execution_count": 27,
   "metadata": {},
   "outputs": [
    {
     "name": "stdout",
     "output_type": "stream",
     "text": [
      "Populating the interactive namespace from numpy and matplotlib\n"
     ]
    }
   ],
   "source": [
    "import os\n",
    "import pandas as pd\n",
    "\n",
    "%pylab inline\n",
    "\n",
    "base_dir = os.path.join( '.','data')\n",
    "output_dir = os.path.join( '.','output')\n",
    "ciudad = 'Valledupar'\n",
    "fuente = 'IDEAM'\n",
    "serie_csv = os.path.join(base_dir,ciudad,fuente+'.csv')\n",
    "serie_pd = pd.read_csv(serie_csv, sep = ';',\n",
    "                encoding='latin-1')\n",
    "                \n",
    "base_dir = os.path.join( '.','data')\n",
    "output_dir = os.path.join( '.','output')\n",
    "ciudad = 'Valledupar'\n",
    "fuente = 'NREL'\n",
    "serie_csv1 = os.path.join(base_dir,ciudad,fuente+'.csv')\n",
    "serie_pd1 = pd.read_csv(serie_csv1, sep = ';',\n",
    "                encoding='latin-1')\n",
    "serie_ajus = serie_pd1.copy()"
   ]
  },
  {
   "cell_type": "code",
   "execution_count": 28,
   "metadata": {},
   "outputs": [],
   "source": [
    "def mcp(serie_real,serie_satel,serie_pd1,serie_ajustada): \n",
    "    \n",
    "    \n",
    "    my= serie_real[\"IDEAM\"].mean()\n",
    "    mx= serie_satel[\"NREL\"].mean()\n",
    "    dy= serie_real[\"IDEAM\"].std(ddof=0)\n",
    "    dx= serie_satel[\"NREL\"].std(ddof=0)\n",
    "    \n",
    "    fx_serie_ajustada = pd.DataFrame((my-((dy/dx)*mx))+((dy/dx)*serie_pd1[\"NREL\"]))\n",
    "    \n",
    "    fx_serie_ajustada[fx_serie_ajustada<0]=0\n",
    "    \n",
    "    del serie_ajustada['NREL']        \n",
    "    serie_ajustada['PromedioDia']=fx_serie_ajustada\n",
    "    \n",
    "    return (serie_ajustada)"
   ]
  },
  {
   "cell_type": "code",
   "execution_count": 46,
   "metadata": {},
   "outputs": [],
   "source": [
    "anho = 2006\n",
    "mes = 1\n",
    "\n",
    "serie_ideam_short = serie_pd[(serie_pd['AÑO'] == anho) &\n",
    "                        (serie_pd['MES'] <= mes)]\n",
    "\n",
    "serie_sat_short = serie_pd1[(serie_pd1['AÑO'] == anho) &\n",
    "                        (serie_pd1['MES'] <= mes)]"
   ]
  },
  {
   "cell_type": "code",
   "execution_count": 47,
   "metadata": {},
   "outputs": [
    {
     "ename": "KeyError",
     "evalue": "'NREL'",
     "output_type": "error",
     "traceback": [
      "\u001b[0;31m---------------------------------------------------------------------------\u001b[0m",
      "\u001b[0;31mKeyError\u001b[0m                                  Traceback (most recent call last)",
      "\u001b[0;32m~/anaconda3_501/lib/python3.6/site-packages/pandas/core/indexes/base.py\u001b[0m in \u001b[0;36mget_loc\u001b[0;34m(self, key, method, tolerance)\u001b[0m\n\u001b[1;32m   2441\u001b[0m             \u001b[0;32mtry\u001b[0m\u001b[0;34m:\u001b[0m\u001b[0;34m\u001b[0m\u001b[0m\n\u001b[0;32m-> 2442\u001b[0;31m                 \u001b[0;32mreturn\u001b[0m \u001b[0mself\u001b[0m\u001b[0;34m.\u001b[0m\u001b[0m_engine\u001b[0m\u001b[0;34m.\u001b[0m\u001b[0mget_loc\u001b[0m\u001b[0;34m(\u001b[0m\u001b[0mkey\u001b[0m\u001b[0;34m)\u001b[0m\u001b[0;34m\u001b[0m\u001b[0m\n\u001b[0m\u001b[1;32m   2443\u001b[0m             \u001b[0;32mexcept\u001b[0m \u001b[0mKeyError\u001b[0m\u001b[0;34m:\u001b[0m\u001b[0;34m\u001b[0m\u001b[0m\n",
      "\u001b[0;32mpandas/_libs/index.pyx\u001b[0m in \u001b[0;36mpandas._libs.index.IndexEngine.get_loc\u001b[0;34m()\u001b[0m\n",
      "\u001b[0;32mpandas/_libs/index.pyx\u001b[0m in \u001b[0;36mpandas._libs.index.IndexEngine.get_loc\u001b[0;34m()\u001b[0m\n",
      "\u001b[0;32mpandas/_libs/hashtable_class_helper.pxi\u001b[0m in \u001b[0;36mpandas._libs.hashtable.PyObjectHashTable.get_item\u001b[0;34m()\u001b[0m\n",
      "\u001b[0;32mpandas/_libs/hashtable_class_helper.pxi\u001b[0m in \u001b[0;36mpandas._libs.hashtable.PyObjectHashTable.get_item\u001b[0;34m()\u001b[0m\n",
      "\u001b[0;31mKeyError\u001b[0m: 'NREL'",
      "\nDuring handling of the above exception, another exception occurred:\n",
      "\u001b[0;31mKeyError\u001b[0m                                  Traceback (most recent call last)",
      "\u001b[0;32m<ipython-input-47-04e2b3e444f9>\u001b[0m in \u001b[0;36m<module>\u001b[0;34m()\u001b[0m\n\u001b[0;32m----> 1\u001b[0;31m \u001b[0mmcp\u001b[0m\u001b[0;34m(\u001b[0m\u001b[0mserie_ideam_short\u001b[0m\u001b[0;34m,\u001b[0m\u001b[0mserie_sat_short\u001b[0m\u001b[0;34m,\u001b[0m\u001b[0mserie_pd1\u001b[0m\u001b[0;34m,\u001b[0m\u001b[0mserie_ajus\u001b[0m\u001b[0;34m)\u001b[0m\u001b[0;34m\u001b[0m\u001b[0m\n\u001b[0m\u001b[1;32m      2\u001b[0m \u001b[0mserie_ajustada\u001b[0m\u001b[0;34m=\u001b[0m\u001b[0mpd\u001b[0m\u001b[0;34m.\u001b[0m\u001b[0mDataFrame\u001b[0m\u001b[0;34m(\u001b[0m\u001b[0mserie_ajustada\u001b[0m\u001b[0;34m)\u001b[0m\u001b[0;34m\u001b[0m\u001b[0m\n",
      "\u001b[0;32m<ipython-input-28-5e1aa0051cd2>\u001b[0m in \u001b[0;36mmcp\u001b[0;34m(serie_real, serie_satel, serie_pd1, serie_ajustada)\u001b[0m\n\u001b[1;32m     11\u001b[0m     \u001b[0mfx_serie_ajustada\u001b[0m\u001b[0;34m[\u001b[0m\u001b[0mfx_serie_ajustada\u001b[0m\u001b[0;34m<\u001b[0m\u001b[0;36m0\u001b[0m\u001b[0;34m]\u001b[0m\u001b[0;34m=\u001b[0m\u001b[0;36m0\u001b[0m\u001b[0;34m\u001b[0m\u001b[0m\n\u001b[1;32m     12\u001b[0m \u001b[0;34m\u001b[0m\u001b[0m\n\u001b[0;32m---> 13\u001b[0;31m     \u001b[0;32mdel\u001b[0m \u001b[0mserie_ajustada\u001b[0m\u001b[0;34m[\u001b[0m\u001b[0;34m'NREL'\u001b[0m\u001b[0;34m]\u001b[0m\u001b[0;34m\u001b[0m\u001b[0m\n\u001b[0m\u001b[1;32m     14\u001b[0m     \u001b[0mserie_ajustada\u001b[0m\u001b[0;34m[\u001b[0m\u001b[0;34m'PromedioDia'\u001b[0m\u001b[0;34m]\u001b[0m\u001b[0;34m=\u001b[0m\u001b[0mfx_serie_ajustada\u001b[0m\u001b[0;34m\u001b[0m\u001b[0m\n\u001b[1;32m     15\u001b[0m \u001b[0;34m\u001b[0m\u001b[0m\n",
      "\u001b[0;32m~/anaconda3_501/lib/python3.6/site-packages/pandas/core/generic.py\u001b[0m in \u001b[0;36m__delitem__\u001b[0;34m(self, key)\u001b[0m\n\u001b[1;32m   1899\u001b[0m             \u001b[0;31m# there was no match, this call should raise the appropriate\u001b[0m\u001b[0;34m\u001b[0m\u001b[0;34m\u001b[0m\u001b[0m\n\u001b[1;32m   1900\u001b[0m             \u001b[0;31m# exception:\u001b[0m\u001b[0;34m\u001b[0m\u001b[0;34m\u001b[0m\u001b[0m\n\u001b[0;32m-> 1901\u001b[0;31m             \u001b[0mself\u001b[0m\u001b[0;34m.\u001b[0m\u001b[0m_data\u001b[0m\u001b[0;34m.\u001b[0m\u001b[0mdelete\u001b[0m\u001b[0;34m(\u001b[0m\u001b[0mkey\u001b[0m\u001b[0;34m)\u001b[0m\u001b[0;34m\u001b[0m\u001b[0m\n\u001b[0m\u001b[1;32m   1902\u001b[0m \u001b[0;34m\u001b[0m\u001b[0m\n\u001b[1;32m   1903\u001b[0m         \u001b[0;31m# delete from the caches\u001b[0m\u001b[0;34m\u001b[0m\u001b[0;34m\u001b[0m\u001b[0m\n",
      "\u001b[0;32m~/anaconda3_501/lib/python3.6/site-packages/pandas/core/internals.py\u001b[0m in \u001b[0;36mdelete\u001b[0;34m(self, item)\u001b[0m\n\u001b[1;32m   3647\u001b[0m         \u001b[0mDelete\u001b[0m \u001b[0mselected\u001b[0m \u001b[0mitem\u001b[0m \u001b[0;34m(\u001b[0m\u001b[0mitems\u001b[0m \u001b[0;32mif\u001b[0m \u001b[0mnon\u001b[0m\u001b[0;34m-\u001b[0m\u001b[0munique\u001b[0m\u001b[0;34m)\u001b[0m \u001b[0;32min\u001b[0m\u001b[0;34m-\u001b[0m\u001b[0mplace\u001b[0m\u001b[0;34m.\u001b[0m\u001b[0;34m\u001b[0m\u001b[0m\n\u001b[1;32m   3648\u001b[0m         \"\"\"\n\u001b[0;32m-> 3649\u001b[0;31m         \u001b[0mindexer\u001b[0m \u001b[0;34m=\u001b[0m \u001b[0mself\u001b[0m\u001b[0;34m.\u001b[0m\u001b[0mitems\u001b[0m\u001b[0;34m.\u001b[0m\u001b[0mget_loc\u001b[0m\u001b[0;34m(\u001b[0m\u001b[0mitem\u001b[0m\u001b[0;34m)\u001b[0m\u001b[0;34m\u001b[0m\u001b[0m\n\u001b[0m\u001b[1;32m   3650\u001b[0m \u001b[0;34m\u001b[0m\u001b[0m\n\u001b[1;32m   3651\u001b[0m         \u001b[0mis_deleted\u001b[0m \u001b[0;34m=\u001b[0m \u001b[0mnp\u001b[0m\u001b[0;34m.\u001b[0m\u001b[0mzeros\u001b[0m\u001b[0;34m(\u001b[0m\u001b[0mself\u001b[0m\u001b[0;34m.\u001b[0m\u001b[0mshape\u001b[0m\u001b[0;34m[\u001b[0m\u001b[0;36m0\u001b[0m\u001b[0;34m]\u001b[0m\u001b[0;34m,\u001b[0m \u001b[0mdtype\u001b[0m\u001b[0;34m=\u001b[0m\u001b[0mnp\u001b[0m\u001b[0;34m.\u001b[0m\u001b[0mbool_\u001b[0m\u001b[0;34m)\u001b[0m\u001b[0;34m\u001b[0m\u001b[0m\n",
      "\u001b[0;32m~/anaconda3_501/lib/python3.6/site-packages/pandas/core/indexes/base.py\u001b[0m in \u001b[0;36mget_loc\u001b[0;34m(self, key, method, tolerance)\u001b[0m\n\u001b[1;32m   2442\u001b[0m                 \u001b[0;32mreturn\u001b[0m \u001b[0mself\u001b[0m\u001b[0;34m.\u001b[0m\u001b[0m_engine\u001b[0m\u001b[0;34m.\u001b[0m\u001b[0mget_loc\u001b[0m\u001b[0;34m(\u001b[0m\u001b[0mkey\u001b[0m\u001b[0;34m)\u001b[0m\u001b[0;34m\u001b[0m\u001b[0m\n\u001b[1;32m   2443\u001b[0m             \u001b[0;32mexcept\u001b[0m \u001b[0mKeyError\u001b[0m\u001b[0;34m:\u001b[0m\u001b[0;34m\u001b[0m\u001b[0m\n\u001b[0;32m-> 2444\u001b[0;31m                 \u001b[0;32mreturn\u001b[0m \u001b[0mself\u001b[0m\u001b[0;34m.\u001b[0m\u001b[0m_engine\u001b[0m\u001b[0;34m.\u001b[0m\u001b[0mget_loc\u001b[0m\u001b[0;34m(\u001b[0m\u001b[0mself\u001b[0m\u001b[0;34m.\u001b[0m\u001b[0m_maybe_cast_indexer\u001b[0m\u001b[0;34m(\u001b[0m\u001b[0mkey\u001b[0m\u001b[0;34m)\u001b[0m\u001b[0;34m)\u001b[0m\u001b[0;34m\u001b[0m\u001b[0m\n\u001b[0m\u001b[1;32m   2445\u001b[0m \u001b[0;34m\u001b[0m\u001b[0m\n\u001b[1;32m   2446\u001b[0m         \u001b[0mindexer\u001b[0m \u001b[0;34m=\u001b[0m \u001b[0mself\u001b[0m\u001b[0;34m.\u001b[0m\u001b[0mget_indexer\u001b[0m\u001b[0;34m(\u001b[0m\u001b[0;34m[\u001b[0m\u001b[0mkey\u001b[0m\u001b[0;34m]\u001b[0m\u001b[0;34m,\u001b[0m \u001b[0mmethod\u001b[0m\u001b[0;34m=\u001b[0m\u001b[0mmethod\u001b[0m\u001b[0;34m,\u001b[0m \u001b[0mtolerance\u001b[0m\u001b[0;34m=\u001b[0m\u001b[0mtolerance\u001b[0m\u001b[0;34m)\u001b[0m\u001b[0;34m\u001b[0m\u001b[0m\n",
      "\u001b[0;32mpandas/_libs/index.pyx\u001b[0m in \u001b[0;36mpandas._libs.index.IndexEngine.get_loc\u001b[0;34m()\u001b[0m\n",
      "\u001b[0;32mpandas/_libs/index.pyx\u001b[0m in \u001b[0;36mpandas._libs.index.IndexEngine.get_loc\u001b[0;34m()\u001b[0m\n",
      "\u001b[0;32mpandas/_libs/hashtable_class_helper.pxi\u001b[0m in \u001b[0;36mpandas._libs.hashtable.PyObjectHashTable.get_item\u001b[0;34m()\u001b[0m\n",
      "\u001b[0;32mpandas/_libs/hashtable_class_helper.pxi\u001b[0m in \u001b[0;36mpandas._libs.hashtable.PyObjectHashTable.get_item\u001b[0;34m()\u001b[0m\n",
      "\u001b[0;31mKeyError\u001b[0m: 'NREL'"
     ]
    }
   ],
   "source": [
    "mcp(serie_ideam_short,serie_sat_short,serie_pd1,serie_ajus)\n",
    "serie_ajustada=pd.DataFrame(serie_ajustada)"
   ]
  },
  {
   "cell_type": "code",
   "execution_count": 48,
   "metadata": {},
   "outputs": [],
   "source": [
    "def Energia (serie):   \n",
    "    def ghi_mensual(serie_horaria):\n",
    "        agnos = sorted(serie_horaria['AÑO'].unique())\n",
    "        ghi_df = pd.DataFrame(columns=[\"AÑO\", \"MES\", \"DIAS\", \"PromedioMes\"])\n",
    "        for agno in range(2006,2016):\n",
    "            for mes in range(1,13):\n",
    "                nombre_energia = list(serie_horaria)[-1]\n",
    "                dias = sorted(serie_horaria[(serie_horaria['AÑO'] == agno) &\n",
    "                            (serie_horaria['MES'] == mes)][\"DIA\"].unique())\n",
    "                ghi_mes = serie_horaria.loc[((serie_horaria[\"AÑO\"] == agno)\n",
    "                                & (serie_horaria[\"MES\"] == mes)),\n",
    "                                            nombre_energia].sum()/1000\n",
    "                ghi_dict = {\"AÑO\":agno, \"MES\":mes, \"DIAS\":dias[-1],\n",
    "                            \"PromedioMes\":ghi_mes}\n",
    "                ghi_df = ghi_df.append(ghi_dict, ignore_index=True)\n",
    "        return ghi_df\n",
    "\n",
    "    def ghi_dia(serie_ghi_mensual):\n",
    "            agnos = sorted(serie_ghi_mensual['AÑO'].unique())\n",
    "            ghi_df = pd.DataFrame(columns=[\"AÑO\", \"MES\", \"PromedioDia\"])\n",
    "            for agno in agnos:\n",
    "                for mes in range(1,13):\n",
    "                    dias = serie_ghi_mensual.loc[((serie_ghi_mensual[\"AÑO\"] == agno)\n",
    "                                    & (serie_ghi_mensual[\"MES\"] == mes))\n",
    "                                             ,\"DIAS\"].item()\n",
    "                    ghi_diario = serie_ghi_mensual.loc[(\n",
    "                        (serie_ghi_mensual[\"AÑO\"] == agno)\n",
    "                                    & (serie_ghi_mensual[\"MES\"] == mes)),\n",
    "                        \"PromedioMes\"].item()/dias\n",
    "                    ghi_dict = {\"AÑO\":agno, \"MES\":mes, \"PromedioDia\":ghi_diario}\n",
    "                    ghi_df = ghi_df.append(ghi_dict, ignore_index=True)\n",
    "            return ghi_df\n",
    "    \n",
    "    ghi_mens_cal = ghi_mensual(serie)\n",
    "    ghi_dia_cal = ghi_dia(ghi_mens_cal)\n",
    "    data = sorted(ghi_dia_cal[\"PromedioDia\"])\n",
    "    num = range(len(data))\n",
    "    percentil = 0.01\n",
    "    enficc = ghi_dia_cal.quantile(q=percentil, numeric_only=True)[\"PromedioDia\"]\n",
    "    print('La ENFICC 99% es: ', enficc)\n",
    "\n",
    "    return (enficc, data, num)"
   ]
  },
  {
   "cell_type": "code",
   "execution_count": 49,
   "metadata": {},
   "outputs": [
    {
     "name": "stdout",
     "output_type": "stream",
     "text": [
      "La ENFICC 99% es:  4.56900737661\n",
      "La ENFICC 99% es:  5.06672598387\n",
      "La ENFICC 99% es:  4.65542321573\n"
     ]
    }
   ],
   "source": [
    "enficc_real = Energia(serie_pd)\n",
    "enficc_sat = Energia(serie_pd1)\n",
    "enficc_ajus = Energia(serie_ajustada)"
   ]
  },
  {
   "cell_type": "code",
   "execution_count": 50,
   "metadata": {},
   "outputs": [],
   "source": [
    "def graf(data_ideam, data_nrel, data_ajust):\n",
    "\n",
    "    pylab.xlabel(\"Datos\")\n",
    "    pylab.ylabel(\"Energía/Energía Base IDEAM\")\n",
    "    pylab.plot(data_ideam[-1],data_ideam[1]/data_ideam[1][0],'-k', label='IDEAM')\n",
    "    pylab.plot(data_nrel[-1],data_nrel[1]/data_ideam[1][0],'-r', label='NREL')\n",
    "    pylab.plot(data_ajust[-1],data_ajust[1]/data_ideam[1][0],'-b', label='Ajustados')\n",
    "    pylab.legend(loc='upper left')"
   ]
  },
  {
   "cell_type": "code",
   "execution_count": 51,
   "metadata": {},
   "outputs": [
    {
     "data": {
      "image/png": "[encoded data removed]",
      "text/plain": [
       "<matplotlib.figure.Figure at 0x7f85bd6f5160>"
      ]
     },
     "metadata": {},
     "output_type": "display_data"
    }
   ],
   "source": [
    "graf(enficc_real, enficc_sat, enficc_ajus)"
   ]
  },
  {
   "cell_type": "code",
   "execution_count": 61,
   "metadata": {},
   "outputs": [],
   "source": [
    "serie_ajus_short = serie_ajustada[(serie_ajustada['AÑO'] == anho) &\n",
    "                        (serie_ajustada['MES'] <= mes)]\n",
    "\n",
    "ideam_val=serie_ideam_short.values\n",
    "ajus_val=serie_ajus_short.values\n",
    "max_ideam=np.max(ideam_val)\n",
    "min_ideam=np.min(ideam_val)\n",
    "\n",
    "def RMS(obs,aju):\n",
    "    rms = (sqrt((obs-aju)**2).mean())/(max_ideam-min_ideam)\n",
    "    print(\"El error rms es: \" + str(rms))\n",
    "    return rms\n",
    "def MBE(obs,aju):\n",
    "    mbe_val = (sum(obs-aju))/sum(obs)\n",
    "    print(\"El error mbe es: \" + str(mbe_val))\n",
    "    return mbe_val"
   ]
  },
  {
   "cell_type": "code",
   "execution_count": 62,
   "metadata": {},
   "outputs": [
    {
     "name": "stdout",
     "output_type": "stream",
     "text": [
      "El error rms es: 0.00510803022299\n",
      "El error mbe es: 0.000296366314774\n"
     ]
    }
   ],
   "source": [
    "rms1 = RMS(ideam_val,ajus_val)\n",
    "mbe1= MBE(ideam_val,ajus_val)"
   ]
  },
  {
   "cell_type": "code",
   "execution_count": null,
   "metadata": {},
   "outputs": [],
   "source": []
  }
 ],
 "metadata": {
  "kernelspec": {
   "display_name": "Python 3.6",
   "language": "python",
   "name": "python36"
  },
  "language_info": {
   "codemirror_mode": {
    "name": "ipython",
    "version": 3
   },
   "file_extension": ".py",
   "mimetype": "text/x-python",
   "name": "python",
   "nbconvert_exporter": "python",
   "pygments_lexer": "ipython3",
   "version": "3.6.3"
  }
 },
 "nbformat": 4,
 "nbformat_minor": 2
}
