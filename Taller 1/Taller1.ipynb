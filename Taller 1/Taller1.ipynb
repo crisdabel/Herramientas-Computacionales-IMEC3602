{
 "cells": [
  {
   "cell_type": "code",
   "execution_count": 26,
   "metadata": {},
   "outputs": [
    {
     "name": "stdout",
     "output_type": "stream",
     "text": [
      "Populating the interactive namespace from numpy and matplotlib\n"
     ]
    }
   ],
   "source": [
    "import os\n",
    "import pandas as pd\n",
    "\n",
    "%pylab inline\n",
    "\n",
    "base_dir = os.path.join( '.','data')\n",
    "output_dir = os.path.join( '.','output')\n",
    "ciudad = 'Valledupar'\n",
    "fuente = 'IDEAM'\n",
    "serie_csv = os.path.join(base_dir,ciudad,fuente+'.csv')\n",
    "serie_pd = pd.read_csv(serie_csv, sep = ';',\n",
    "                encoding='latin-1')\n",
    "                \n",
    "base_dir = os.path.join( '.','data')\n",
    "output_dir = os.path.join( '.','output')\n",
    "ciudad = 'Valledupar'\n",
    "fuente = 'NREL'\n",
    "serie_csv1 = os.path.join(base_dir,ciudad,fuente+'.csv')\n",
    "serie_pd1 = pd.read_csv(serie_csv1, sep = ';',\n",
    "                encoding='latin-1')\n",
    "serie_ajustada = serie_pd1.copy()"
   ]
  },
  {
   "cell_type": "code",
   "execution_count": 27,
   "metadata": {},
   "outputs": [],
   "source": [
    "def mcp(serie_real,serie_satel,serie_pd1,serie_ajustada): \n",
    "    \n",
    "    \n",
    "    my= serie_real[\"IDEAM\"].mean()\n",
    "    mx= serie_satel[\"NREL\"].mean()\n",
    "    dy= serie_real[\"IDEAM\"].std(ddof=0)\n",
    "    dx= serie_satel[\"NREL\"].std(ddof=0)\n",
    "    \n",
    "    fx_serie_ajustada = pd.DataFrame((my-((dy/dx)*mx))+((dy/dx)*serie_pd1[\"NREL\"]))\n",
    "    \n",
    "    fx_serie_ajustada[fx_serie_ajustada<0]=0\n",
    "    \n",
    "    del serie_ajustada['NREL']        \n",
    "    serie_ajustada['PromedioDia']=fx_serie_ajustada\n",
    "    \n",
    "    return (serie_ajustada)"
   ]
  },
  {
   "cell_type": "code",
   "execution_count": 28,
   "metadata": {},
   "outputs": [],
   "source": [
    "anho = 2006\n",
    "mes = 1\n",
    "\n",
    "serie_ideam_short = serie_pd[(serie_pd['AÑO'] <= anho) &\n",
    "                        (serie_pd['MES'] <= mes)]\n",
    "\n",
    "serie_sat_short = serie_pd1[(serie_pd1['AÑO'] <= anho) &\n",
    "                        (serie_pd1['MES'] <= mes)]"
   ]
  },
  {
   "cell_type": "code",
   "execution_count": 29,
   "metadata": {},
   "outputs": [],
   "source": [
    "mcp(serie_ideam_short,serie_sat_short,serie_pd1,serie_ajustada)\n",
    "serie_ajustada=pd.DataFrame(serie_ajustada)"
   ]
  },
  {
   "cell_type": "code",
   "execution_count": 53,
   "metadata": {},
   "outputs": [],
   "source": [
    "def Energia (serie):   \n",
    "    def ghi_mensual(serie_horaria):\n",
    "        agnos = sorted(serie_horaria['AÑO'].unique())\n",
    "        ghi_df = pd.DataFrame(columns=[\"AÑO\", \"MES\", \"DIAS\", \"PromedioMes\"])\n",
    "        for agno in range(2006,2016):\n",
    "            for mes in range(1,13):\n",
    "                nombre_energia = list(serie_horaria)[-1]\n",
    "                dias = sorted(serie_horaria[(serie_horaria['AÑO'] == agno) &\n",
    "                            (serie_horaria['MES'] == mes)][\"DIA\"].unique())\n",
    "                ghi_mes = serie_horaria.loc[((serie_horaria[\"AÑO\"] == agno)\n",
    "                                & (serie_horaria[\"MES\"] == mes)),\n",
    "                                            nombre_energia].sum()/1000\n",
    "                ghi_dict = {\"AÑO\":agno, \"MES\":mes, \"DIAS\":dias[-1],\n",
    "                            \"PromedioMes\":ghi_mes}\n",
    "                ghi_df = ghi_df.append(ghi_dict, ignore_index=True)\n",
    "        return ghi_df\n",
    "\n",
    "    def ghi_dia(serie_ghi_mensual):\n",
    "            agnos = sorted(serie_ghi_mensual['AÑO'].unique())\n",
    "            ghi_df = pd.DataFrame(columns=[\"AÑO\", \"MES\", \"PromedioDia\"])\n",
    "            for agno in agnos:\n",
    "                for mes in range(1,13):\n",
    "                    dias = serie_ghi_mensual.loc[((serie_ghi_mensual[\"AÑO\"] == agno)\n",
    "                                    & (serie_ghi_mensual[\"MES\"] == mes))\n",
    "                                             ,\"DIAS\"].item()\n",
    "                    ghi_diario = serie_ghi_mensual.loc[(\n",
    "                        (serie_ghi_mensual[\"AÑO\"] == agno)\n",
    "                                    & (serie_ghi_mensual[\"MES\"] == mes)),\n",
    "                        \"PromedioMes\"].item()/dias\n",
    "                    ghi_dict = {\"AÑO\":agno, \"MES\":mes, \"PromedioDia\":ghi_diario}\n",
    "                    ghi_df = ghi_df.append(ghi_dict, ignore_index=True)\n",
    "            return ghi_df\n",
    "    \n",
    "    ghi_mens_cal = ghi_mensual(serie)\n",
    "    ghi_dia_cal = ghi_dia(ghi_mens_cal)\n",
    "    data = sorted(ghi_dia_cal[\"PromedioDia\"])\n",
    "    num = range(len(data))\n",
    "    percentil = 0.01\n",
    "    enficc = ghi_dia_cal.quantile(q=percentil, numeric_only=True)[\"PromedioDia\"]\n",
    "    print('La ENFICC 99% es: ', enficc)\n",
    "\n",
    "    return (enficc, data, num)"
   ]
  },
  {
   "cell_type": "code",
   "execution_count": 54,
   "metadata": {},
   "outputs": [
    {
     "name": "stdout",
     "output_type": "stream",
     "text": [
      "La ENFICC 99% es:  4.56900737661\n",
      "La ENFICC 99% es:  5.06672598387\n",
      "La ENFICC 99% es:  4.65542321573\n"
     ]
    }
   ],
   "source": [
    "enficc_real = Energia(serie_pd)\n",
    "enficc_sat = Energia(serie_pd1)\n",
    "enficc_ajus = Energia(serie_ajustada)"
   ]
  },
  {
   "cell_type": "code",
   "execution_count": 59,
   "metadata": {},
   "outputs": [],
   "source": [
    "def graf(data_ideam, data_nrel, data_ajust):\n",
    "\n",
    "    pylab.xlabel(\"Datos\")\n",
    "    pylab.ylabel(\"Energía/Energía Base IDEAM\")\n",
    "    pylab.plot(data_ideam[-1],data_ideam[1],'-k', label='IDEAM')\n",
    "    pylab.plot(data_nrel[-1],data_nrel[1],'-r', label='NREL')\n",
    "    pylab.plot(data_ajust[-1],data_ajust[1],'-b', label='Ajustados')\n",
    "    pylab.legend(loc='upper left')"
   ]
  },
  {
   "cell_type": "code",
   "execution_count": 60,
   "metadata": {},
   "outputs": [
    {
     "data": {
      "image/png": "[encoded data removed]",
      "text/plain": [
       "<matplotlib.figure.Figure at 0x7f035c33d7b8>"
      ]
     },
     "metadata": {},
     "output_type": "display_data"
    }
   ],
   "source": [
    "graf(enficc_real, enficc_sat, enficc_ajus)"
   ]
  },
  {
   "cell_type": "code",
   "execution_count": null,
   "metadata": {},
   "outputs": [],
   "source": []
  }
 ],
 "metadata": {
  "kernelspec": {
   "display_name": "Python 3.6",
   "language": "python",
   "name": "python36"
  },
  "language_info": {
   "codemirror_mode": {
    "name": "ipython",
    "version": 3
   },
   "file_extension": ".py",
   "mimetype": "text/x-python",
   "name": "python",
   "nbconvert_exporter": "python",
   "pygments_lexer": "ipython3",
   "version": "3.6.3"
  }
 },
 "nbformat": 4,
 "nbformat_minor": 2
}
