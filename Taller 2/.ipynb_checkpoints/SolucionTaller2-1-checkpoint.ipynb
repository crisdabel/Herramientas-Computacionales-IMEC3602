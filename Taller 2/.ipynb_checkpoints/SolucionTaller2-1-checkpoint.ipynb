{
 "cells": [
  {
   "cell_type": "markdown",
   "metadata": {},
   "source": [
    "# Taller 2\n",
    "### Juan Daniel Torres Amézquita (201414896)"
   ]
  },
  {
   "cell_type": "code",
   "execution_count": null,
   "metadata": {},
   "outputs": [],
   "source": [
    "%pylab inline\n",
    "import matplotlib.pyplot as plt\n",
    "import scipy.integrate as spint"
   ]
  },
  {
   "cell_type": "code",
   "execution_count": null,
   "metadata": {},
   "outputs": [],
   "source": [
    "# Datos Llantas tractivas \n",
    "rll=0.139 # Radio geométrico de las llantas en traseras (m)\n",
    "r=0.98*rll # Radio efectivo llantas traseras (m)\n",
    "rin=0.0631 #radio interno del neumático (m)\n",
    "\n",
    "dll=0.975 # Distancia entre ejes de llantas delanteras (m)\n",
    "alj=0.88 # Altura con el piloto sentado en el kart (estatura 1.68 m) (m)\n",
    "rho=1.1955 # densidad del aire (kg/m^3)\n",
    "af=(dll*alj)/2 # Area Frontal Kart (m^2)\n",
    "cd=0.89 # Coeficiente de Arrastre Kart\n",
    "vw=0.0 # velocidad del viento (m/s)\n",
    "theta=0.0 # Angulo carretera\n",
    "g=9.81 # Gravedad (m/s)\n",
    "\n",
    "## Datos Transmisión\n",
    "dp=1 # Dientes del piñon\n",
    "dpl=0.69 # Dientes del plato\n",
    "Nc=dpl/dp # Relación de Transmisión\n",
    "ef=0.95 # Eficiencia de transmisión\n",
    "\n",
    "# Datos eje llantas\n",
    "reje=0.02 # Radio eje de las llantas (m)\n",
    "meje=3.832 # Masa del eje (kg)\n",
    "\n",
    "# Datos Kart general\n",
    "masa=220 # masa del Kart (kg)\n",
    "g=9.81 # Gravedad (m/s)\n",
    "w=masa*g # peso del Kart (N)\n",
    "m = masa\n",
    "\n",
    "# Datos Inercias\n",
    "i_e=5.2E-3 # Inercia motor de combustión (kg m^2) \n",
    "\n",
    "rpi=0.01525#(m)\n",
    "rpla=0.04096 #(m)\n",
    "rhoac=7850.0 # Densidad del Acero (kg/m^3)\n",
    "bpi=0.01 # Ancho piñon (m)\n",
    "bpla=0.02 # Ancho plato (m)\n",
    "vpi= bpi*np.pi*rpi**2 # Volumen del piñon (m^3)\n",
    "vpla=bpla*np.pi*rpla**2 # Volumen del plato (m^3)\n",
    "mpi=rhoac*vpi # Masa del piñon (kg)\n",
    "mpla=rhoac*vpla # Masa del plato (kg)\n",
    "mllt=1.43 # Masa llantas traseras (kg)\n",
    "mlld=1.20 # Masa llantas delanteras (kg)\n",
    "rlld=0.129 # Radio llantas delanteras (m)\n",
    "rind=0.0631 # Radio rin llantas delanteras (m)\n",
    "mbt=0.7*mllt # El porcentaje de la masa total que pesa la parte \"banda\" de la llanta trasera\n",
    "mdt=0.3*mllt # El porcentaje de la masa total que pesa la parte \"disco\" de la llanta trasera\n",
    "mbd=0.7*mlld # El porcentaje de la masa total que pesa la parte \"banda\" de la llanta delantera\n",
    "mdd=0.3*mlld # El porcentaje de la masa total que pesa la parte \"disco\" de la llanta delantera\n",
    "illd=(mbd*rlld)+(mdd*(rlld**2-rind**2))/2 # Inercia 1 llanta delantera (kg-m^2)\n",
    "illt=(mbt*rll)+(mdt*(rll**2-rin**2))/2 # Inercia 1 llanta trasera (kg-m^2)\n",
    "ig=((mpi*(rpi**2))/2.0)+((mpla*(rpla**2))/2.0) # Inercia de la transmisión (kg-m^2)\n",
    "ieje=(meje*reje**2)/2.0 # Inercia del eje de las llantas (kg-m^2)\n",
    "\n",
    "\n",
    "i_w = 2*illd + 2*illt\n",
    "i_d = ig + ieje\n"
   ]
  },
  {
   "cell_type": "code",
   "execution_count": null,
   "metadata": {},
   "outputs": [],
   "source": [
    "def f_rodadura(vx,w):\n",
    "    fr=0.01*(1+((vx/0.277778)/100.0)) # Factor de rodadura la velocidad del kart debe estar en (km/h)\n",
    "    return w*fr # (N)"
   ]
  },
  {
   "cell_type": "code",
   "execution_count": null,
   "metadata": {},
   "outputs": [],
   "source": [
    "def f_arrastre(vx):\n",
    "    return (1.0/2.0)*rho*af*cd*(vx+vw)**2 # (N)"
   ]
  },
  {
   "cell_type": "code",
   "execution_count": null,
   "metadata": {},
   "outputs": [],
   "source": [
    "def t_engine(vx,r,Nc):\n",
    "    omega_llanta = (vx/r)\n",
    "    omega_motor = omega_llanta*Nc\n",
    "    rpm = omega_motor*30/(np.pi)\n",
    "    P =((-0.00000004564538677*rpm**3)+(0.0001056995459*rpm**2)+(1.53209191*rpm)-1.895523696)\n",
    "    T = P/omega_motor\n",
    "    return T"
   ]
  },
  {
   "cell_type": "code",
   "execution_count": null,
   "metadata": {},
   "outputs": [],
   "source": [
    "def M_r(Nc,r,Iw,Id,Ie):\n",
    "    mr=((Iw+Id)+Ie*Nc**2)/r**2\n",
    "    return mr"
   ]
  },
  {
   "cell_type": "code",
   "execution_count": null,
   "metadata": {},
   "outputs": [],
   "source": [
    "def a_x (velv,t0):\n",
    "    xx,vel = velv\n",
    "    f_rod = f_rodadura(vel,w)\n",
    "    f_drag = f_arrastre(vel)\n",
    "    t_e = t_engine(vel,r,Nc)\n",
    "    mr = M_r(Nc,r,i_w,i_d,i_e)\n",
    "    ax = ((t_e*Nc*ef/r)-f_rod-f_drag)/(mr+m)\n",
    "    resultado = vel,ax\n",
    "    return resultado"
   ]
  },
  {
   "cell_type": "code",
   "execution_count": null,
   "metadata": {},
   "outputs": [],
   "source": [
    "def a_c (velv,t0):\n",
    "    xx,vel = velv\n",
    "    f_b = (-20.5*ef*Nc)/r\n",
    "    f_rod = f_rodadura(vel,w)\n",
    "    f_drag = f_arrastre(vel)\n",
    "    mr = M_r(Nc,r,i_w,i_d,i_e)\n",
    "    ac = (f_b-f_rod-f_drag)/(mr+m)\n",
    "    resultado = vel,ac\n",
    "    return resultado"
   ]
  },
  {
   "cell_type": "code",
   "execution_count": null,
   "metadata": {},
   "outputs": [],
   "source": [
    "# Condiciones iniciales\n",
    "c_ini = [0,0.1] # Se establecen las condiciones iniciales de posición (primera casilla) y velocidad (segunda casilla)."
   ]
  },
  {
   "cell_type": "markdown",
   "metadata": {},
   "source": [
    "En el array de condiciones iniciales establecido arriba, se usa una velocidad inicial de 0.1 para evitar casos de división sobre 0 en el funcionamiento interno del código."
   ]
  },
  {
   "cell_type": "code",
   "execution_count": null,
   "metadata": {},
   "outputs": [],
   "source": [
    "#Proceso de aceleración\n",
    "\n",
    "t_ax_in = 0.1 # Se establece el tiempo inicial (cercano a 0).\n",
    "t_ax_fin = 10 # Se establece el tiempo final en una cantidad arbitraria.\n",
    "t_ax = np.linspace(t_ax_in,t_ax_fin,1000) # Se crea un vector de 100 pasos con los puntos inicial y final establecidos anteriormente.\n",
    "sol_ax = spint.odeint(a_x, c_ini, t_ax) # Se soluciona la función de aceleración usando odeint, y el vector de tiempo establecido exclusivamente para la aceleración.\n",
    "vel = sol_ax[:,1] # Se almacenan los datos de velocidad obtenidos de la solución.\n",
    "diff = vel[-1]-vel[len(vel)-2] # Se obtiene una diferencia entre los dos últimos datos de velocidad.\n",
    "while diff > 0.004: # Mientras la diferencia sea mayor al parámetro establecido...\n",
    "    t_ax_fin = t_ax_fin + 1 # ...el valor del tiempo final se hará mayor...\n",
    "    t_ax = np.linspace(t_ax_in,t_ax_fin,1000) # ...se redefine el vector de tiempo de aceleración...\n",
    "    sol_ax = spint.odeint(a_x, c_ini, t_ax) # ...se vuelve a resolver la aceleración usando el nuevo vector de tiempo...\n",
    "    vel = sol_ax[:,1] # ...se obtiene un nuevo vector de velocidades... \n",
    "    pos = sol_ax[:,0] # Se crea un vector con las posiciones del vehículo.\n",
    "    diff = vel[-1]-vel[len(vel)-2] #... y finalmente se hace una diferencia (para ver si es necesario repetir el proceso)."
   ]
  },
  {
   "cell_type": "markdown",
   "metadata": {},
   "source": [
    "Explicamos el proceso de aceleración: en tanto que la diferencia entre los últimos datos de velocidad sea significativa, esto es indicativo que el vehículo sigue acelerando y por lo tanto, no ha llegado a su velocidad máxima. Cuando la diferencia es muy pequeña, se da por concluida la aceleración del kart."
   ]
  },
  {
   "cell_type": "code",
   "execution_count": null,
   "metadata": {},
   "outputs": [],
   "source": [
    "# Proceso de frenado\n",
    "vel_max = vel[-1] # Se obtiene la velocidad máxima del kart.\n",
    "pos_inifr = pos[-1] # Se obtiene la posición a partir de la cual el kart frenará.\n",
    "c_fr = [pos_inifr,vel_max] # Se establecen las condiciones iniciales del frenado.\n",
    "t_ac_in = t_ax_fin # Se establece el tiempo inicial de frenado (como el tiempo final de la aceleración).\n",
    "t_ac_fin = t_ac_in + 0.5 # Se establece el tiempo final de frenado.\n",
    "t_ac = np.linspace(t_ac_in,t_ac_fin,100) # Se establece el vector de tiempo de frenado del kart.\n",
    "sol_ac = spint.odeint(a_c, c_fr, t_ac) # Se soluciona la ecuación de aceleración en el frenado.\n",
    "velfr = sol_ac[:,1] # Se almacena la velocidad del kart durante el frenado.\n",
    "\n",
    "while velfr[-1] > 0.1: # Mientras la velocidad sea mayor a 0...\n",
    "    t_ac_fin = t_ac_fin + 0.5 # ...el valor de tiempo final de frenado aumenta...\n",
    "    t_ac = np.linspace(t_ac_in,t_ac_fin,100) # ...se redefine el vector de tiempo de frenado...\n",
    "    sol_ac = spint.odeint(a_c, c_fr, t_ac) # ...se soluciona la ecuación de aceleración con el nuevo vector...\n",
    "    velfr = sol_ac[:,1] # ...se obtiene el nuevo vector de velocidad en el frenado...\n",
    "    posfr = sol_ac[:,0] # ...y se obtiene la posición del kart durante el frenado.\n",
    "\n",
    "acel = np.gradient(vel)*100 # Se obtiene la aceleración del kart.\n",
    "acelfr = np.gradient(velfr)*100 # Se obtiene la aceleración del kart en el frenado."
   ]
  },
  {
   "cell_type": "code",
   "execution_count": null,
   "metadata": {},
   "outputs": [],
   "source": [
    "#Creación de vectores\n",
    "t = np.concatenate((t_ax,t_ac)) # Se concatenan los vectores de tiempo.\n",
    "v = np.concatenate((vel,velfr)) # Se concatenan los vectores de velocidad.\n",
    "p = np.concatenate((pos,posfr)) # Se concatenan los vectores de posición.\n",
    "a = np.concatenate((acel,acelfr)) # Se concatenan los vectores de aceleración."
   ]
  },
  {
   "cell_type": "markdown",
   "metadata": {},
   "source": [
    "Finalmente, graficamos posición, velocidad y aceleración contra tiempo para distintas relaciones y pesos de kart. Es importante notar que cada vez que se grafica se debe correr todo el código con los parámetros cambiados.\n",
    "\n",
    "El análisis se organiza de la siguiente manera: Se escogieron tres relaciones de transmisión y tres masas. Las relaciones son 3.54:1 (la relación estándar dada por el código inicial), 1.27:1 (relación asociada a cambios intermedios), y 0.69:1 (asociada a cambios altos, relaciones de velocidad). Adicionalmente, se tuvieron en cuenta tres pesos de kart, 100kg, 152kg, y 220kg."
   ]
  },
  {
   "cell_type": "markdown",
   "metadata": {},
   "source": [
    "## Relación de 39/11 (3.54:1) y masa de 152kg"
   ]
  },
  {
   "cell_type": "markdown",
   "metadata": {},
   "source": [
    "Relación estándar del vehículo. En la mayoría de carros, esta relación se considera como una relación de fuerza (asociada a los primeros cambios de la transmisión)."
   ]
  },
  {
   "cell_type": "code",
   "execution_count": null,
   "metadata": {},
   "outputs": [],
   "source": [
    "plt.plot(t, p, 'g', label='Posición (t)')\n",
    "plt.legend(loc='best')\n",
    "plt.xlabel('t(s)')\n",
    "plt.ylabel('Posición(m)')\n",
    "plt.grid()\n",
    "plt.show()"
   ]
  },
  {
   "cell_type": "code",
   "execution_count": null,
   "metadata": {},
   "outputs": [],
   "source": [
    "plt.plot(t, v, 'b', label='Velocidad (t)')\n",
    "plt.legend(loc='best')\n",
    "plt.xlabel('t(s)')\n",
    "plt.ylabel('Velocidad(m/s)')\n",
    "plt.grid()\n",
    "plt.show()"
   ]
  },
  {
   "cell_type": "code",
   "execution_count": null,
   "metadata": {},
   "outputs": [],
   "source": [
    "plt.plot(t, a, 'r', label='Aceleración (t)')\n",
    "plt.legend(loc='best')\n",
    "plt.xlabel('t(s)')\n",
    "plt.ylabel('Aceleración(m/s^2)')\n",
    "plt.grid()\n",
    "plt.show()"
   ]
  },
  {
   "cell_type": "markdown",
   "metadata": {},
   "source": [
    "El tiempo desde cero hasta velocidad máxima y parada es de aproximadamente 30 segundos. El kart desarrolló una velocidad de aproximadamente 23m/s, y el recorrido lo hizo en poco menos de 400 metros."
   ]
  },
  {
   "cell_type": "markdown",
   "metadata": {},
   "source": [
    "## Relación de 1.27:1 y masa de 152kg"
   ]
  },
  {
   "cell_type": "code",
   "execution_count": null,
   "metadata": {},
   "outputs": [],
   "source": [
    "plt.plot(t, p, 'g', label='Posición (t)')\n",
    "plt.legend(loc='best')\n",
    "plt.xlabel('t(s)')\n",
    "plt.ylabel('Posición(m)')\n",
    "plt.grid()\n",
    "plt.show()"
   ]
  },
  {
   "cell_type": "code",
   "execution_count": null,
   "metadata": {},
   "outputs": [],
   "source": [
    "plt.plot(t, v, 'b', label='Velocidad (t)')\n",
    "plt.legend(loc='best')\n",
    "plt.xlabel('t(s)')\n",
    "plt.ylabel('Velocidad(m/s)')\n",
    "plt.grid()\n",
    "plt.show()"
   ]
  },
  {
   "cell_type": "code",
   "execution_count": null,
   "metadata": {},
   "outputs": [],
   "source": [
    "plt.plot(t, a, 'r', label='Aceleración (t)')\n",
    "plt.legend(loc='best')\n",
    "plt.xlabel('t(s)')\n",
    "plt.ylabel('Aceleración(m/s^2)')\n",
    "plt.grid()\n",
    "plt.show()"
   ]
  },
  {
   "cell_type": "markdown",
   "metadata": {},
   "source": [
    "Vemos que con el mismo peso pero otra relación el desempeño es peor que con la relación de fuerza (3.54:1). Los tiempos son casi el doble que con la relación inicial, la aceleración y la velocidad alcanzadas son peores y se tarda más distancia en hacer el recorrido."
   ]
  },
  {
   "cell_type": "markdown",
   "metadata": {},
   "source": [
    "## Relación de 0.69:1 y masa de 152kg"
   ]
  },
  {
   "cell_type": "code",
   "execution_count": null,
   "metadata": {},
   "outputs": [],
   "source": [
    "plt.plot(t, p, 'g', label='Posición (t)')\n",
    "plt.legend(loc='best')\n",
    "plt.xlabel('t(s)')\n",
    "plt.ylabel('Posición(m)')\n",
    "plt.grid()\n",
    "plt.show()"
   ]
  },
  {
   "cell_type": "code",
   "execution_count": null,
   "metadata": {},
   "outputs": [],
   "source": [
    "plt.plot(t, v, 'b', label='Velocidad (t)')\n",
    "plt.legend(loc='best')\n",
    "plt.xlabel('t(s)')\n",
    "plt.ylabel('Velocidad(m/s)')\n",
    "plt.grid()\n",
    "plt.show()"
   ]
  },
  {
   "cell_type": "code",
   "execution_count": null,
   "metadata": {},
   "outputs": [],
   "source": [
    "plt.plot(t, a, 'r', label='Aceleración (t)')\n",
    "plt.legend(loc='best')\n",
    "plt.xlabel('t(s)')\n",
    "plt.ylabel('Aceleración(m/s^2)')\n",
    "plt.grid()\n",
    "plt.show()"
   ]
  },
  {
   "cell_type": "markdown",
   "metadata": {},
   "source": [
    "Podemos observar que aunque los tiempos son menores que en ambos casos, y la distancia no es tan larga como en la relación de 1.27:1, las velocidades y la aceleración alcanzada son muy pequeñas a comparación de las otras relaciones. La aceleración baja implica que el torque ejercido por el motor no se está aprovechando para empujar al vehículo, y como consecuencia de ésto se tiene una velocidad máxima muy baja."
   ]
  },
  {
   "cell_type": "markdown",
   "metadata": {},
   "source": [
    "## Relación de 39/11 (3.54:1) y masa de 100kg"
   ]
  },
  {
   "cell_type": "markdown",
   "metadata": {},
   "source": [
    "En las siguientes gráficas se muestran los valores de posición, velocidad y aceleración con un kart de 100kg."
   ]
  },
  {
   "cell_type": "code",
   "execution_count": null,
   "metadata": {},
   "outputs": [],
   "source": [
    "plt.plot(t, p, 'g', label='Posición (t)')\n",
    "plt.legend(loc='best')\n",
    "plt.xlabel('t(s)')\n",
    "plt.ylabel('Posición(m)')\n",
    "plt.grid()\n",
    "plt.show()"
   ]
  },
  {
   "cell_type": "code",
   "execution_count": null,
   "metadata": {},
   "outputs": [],
   "source": [
    "plt.plot(t, v, 'b', label='Velocidad (t)')\n",
    "plt.legend(loc='best')\n",
    "plt.xlabel('t(s)')\n",
    "plt.ylabel('Velocidad(m/s)')\n",
    "plt.grid()\n",
    "plt.show()"
   ]
  },
  {
   "cell_type": "code",
   "execution_count": null,
   "metadata": {},
   "outputs": [],
   "source": [
    "plt.plot(t, a, 'r', label='Aceleración (t)')\n",
    "plt.legend(loc='best')\n",
    "plt.xlabel('t(s)')\n",
    "plt.ylabel('Aceleración(m/s^2)')\n",
    "plt.grid()\n",
    "plt.show()"
   ]
  },
  {
   "cell_type": "markdown",
   "metadata": {},
   "source": [
    "Aunque las velocidades alcanzadas no varían mucho con respecto a esta relación en 152kg, podemos ver que los tiempos sí se hacen más cortos (hace el recorrido aproximadamente 10 segundos más rápido). Esto quiere decir que la velocidad máxima se alcanza antes, y por lo tanto la distancia recorrida también es menor. Cabe resaltar que la curva de aceleración es prácticamente igual, pero temporalmente es más corta. Adicionalmente, el frenado es mucho más rápido."
   ]
  },
  {
   "cell_type": "markdown",
   "metadata": {},
   "source": [
    "## Relación de 1.27:1 y masa de 100kg"
   ]
  },
  {
   "cell_type": "code",
   "execution_count": null,
   "metadata": {},
   "outputs": [],
   "source": [
    "plt.plot(t, p, 'g', label='Posición (t)')\n",
    "plt.legend(loc='best')\n",
    "plt.xlabel('t(s)')\n",
    "plt.ylabel('Posición(m)')\n",
    "plt.grid()\n",
    "plt.show()"
   ]
  },
  {
   "cell_type": "code",
   "execution_count": null,
   "metadata": {},
   "outputs": [],
   "source": [
    "plt.plot(t, v, 'b', label='Velocidad (t)')\n",
    "plt.legend(loc='best')\n",
    "plt.xlabel('t(s)')\n",
    "plt.ylabel('Velocidad(m/s)')\n",
    "plt.grid()\n",
    "plt.show()"
   ]
  },
  {
   "cell_type": "code",
   "execution_count": null,
   "metadata": {},
   "outputs": [],
   "source": [
    "plt.plot(t, a, 'r', label='Aceleración (t)')\n",
    "plt.legend(loc='best')\n",
    "plt.xlabel('t(s)')\n",
    "plt.ylabel('Aceleración(m/s^2)')\n",
    "plt.grid()\n",
    "plt.show()"
   ]
  },
  {
   "cell_type": "markdown",
   "metadata": {},
   "source": [
    "Vemos que las velocidades alcanzadas son bastante consistentes con los valores anteriormente vistos, pero los tiempos en los que se alcanza la velocidad máxima son mucho más largos para esta relación de transmisión. El tiempo de frenado no se ve afectado por esto, ya que el vehículo para en aproximadamente el mismo tiempo que para la relación 3.54:1."
   ]
  },
  {
   "cell_type": "markdown",
   "metadata": {},
   "source": [
    "## Relación de 0.69:1 y masa de 100kg"
   ]
  },
  {
   "cell_type": "code",
   "execution_count": null,
   "metadata": {},
   "outputs": [],
   "source": [
    "plt.plot(t, p, 'g', label='Posición (t)')\n",
    "plt.legend(loc='best')\n",
    "plt.xlabel('t(s)')\n",
    "plt.ylabel('Posición(m)')\n",
    "plt.grid()\n",
    "plt.show()"
   ]
  },
  {
   "cell_type": "code",
   "execution_count": null,
   "metadata": {},
   "outputs": [],
   "source": [
    "plt.plot(t, v, 'b', label='Velocidad (t)')\n",
    "plt.legend(loc='best')\n",
    "plt.xlabel('t(s)')\n",
    "plt.ylabel('Velocidad(m/s)')\n",
    "plt.grid()\n",
    "plt.show()"
   ]
  },
  {
   "cell_type": "code",
   "execution_count": null,
   "metadata": {},
   "outputs": [],
   "source": [
    "plt.plot(t, a, 'r', label='Aceleración (t)')\n",
    "plt.legend(loc='best')\n",
    "plt.xlabel('t(s)')\n",
    "plt.ylabel('Aceleración(m/s^2)')\n",
    "plt.grid()\n",
    "plt.show()"
   ]
  },
  {
   "cell_type": "markdown",
   "metadata": {},
   "source": [
    "Podemos observar que aunque el menor peso le permite al vehículo alcanzar velocidades mayores, el desempeño sigue siendo malo comparado con las otras relaciones de transmisión. Podemos empezar a ver la tendencia que, entre mejor se pueda transmitir la potencia y el torque del motor, mejor es el desempeño del vehículo."
   ]
  },
  {
   "cell_type": "markdown",
   "metadata": {},
   "source": [
    "Finalmente, tenemos un peso elevado para poder predecir el comportamiento del vehículo cuando va un piloto (de 70 kilos en este caso) montado en este."
   ]
  },
  {
   "cell_type": "markdown",
   "metadata": {},
   "source": [
    "## Relación de 39/11 (3.54:1) y masa de 220kg"
   ]
  },
  {
   "cell_type": "code",
   "execution_count": null,
   "metadata": {},
   "outputs": [],
   "source": [
    "plt.plot(t, p, 'g', label='Posición (t)')\n",
    "plt.legend(loc='best')\n",
    "plt.xlabel('t(s)')\n",
    "plt.ylabel('Posición(m)')\n",
    "plt.grid()\n",
    "plt.show()"
   ]
  },
  {
   "cell_type": "code",
   "execution_count": null,
   "metadata": {},
   "outputs": [],
   "source": [
    "plt.plot(t, v, 'b', label='Velocidad (t)')\n",
    "plt.legend(loc='best')\n",
    "plt.xlabel('t(s)')\n",
    "plt.ylabel('Velocidad(m/s)')\n",
    "plt.grid()\n",
    "plt.show()"
   ]
  },
  {
   "cell_type": "code",
   "execution_count": null,
   "metadata": {},
   "outputs": [],
   "source": [
    "plt.plot(t, a, 'r', label='Aceleración (t)')\n",
    "plt.legend(loc='best')\n",
    "plt.xlabel('t(s)')\n",
    "plt.ylabel('Aceleración(m/s^2)')\n",
    "plt.grid()\n",
    "plt.show()"
   ]
  },
  {
   "cell_type": "markdown",
   "metadata": {},
   "source": [
    "Las velocidades alcanzadas y la curva de aceleración son consistentes con lo visto anteriormente, pero los tiempos y la distancia cambian. Debido a que el vehículo tiene una mayor masa, se requiere de más tiempo para lograr los efectos deseados (acelerar a la velocidad máxima, y frenar hasta detenerse)."
   ]
  },
  {
   "cell_type": "markdown",
   "metadata": {},
   "source": [
    "## Relación de 1.27:1 y masa de 220kg"
   ]
  },
  {
   "cell_type": "code",
   "execution_count": null,
   "metadata": {},
   "outputs": [],
   "source": [
    "plt.plot(t, p, 'g', label='Posición (t)')\n",
    "plt.legend(loc='best')\n",
    "plt.xlabel('t(s)')\n",
    "plt.ylabel('Posición(m)')\n",
    "plt.grid()\n",
    "plt.show()"
   ]
  },
  {
   "cell_type": "code",
   "execution_count": null,
   "metadata": {},
   "outputs": [],
   "source": [
    "plt.plot(t, v, 'b', label='Velocidad (t)')\n",
    "plt.legend(loc='best')\n",
    "plt.xlabel('t(s)')\n",
    "plt.ylabel('Velocidad(m/s)')\n",
    "plt.grid()\n",
    "plt.show()"
   ]
  },
  {
   "cell_type": "code",
   "execution_count": null,
   "metadata": {},
   "outputs": [],
   "source": [
    "plt.plot(t, a, 'r', label='Aceleración (t)')\n",
    "plt.legend(loc='best')\n",
    "plt.xlabel('t(s)')\n",
    "plt.ylabel('Aceleración(m/s^2)')\n",
    "plt.grid()\n",
    "plt.show()"
   ]
  },
  {
   "cell_type": "markdown",
   "metadata": {},
   "source": [
    "En estas gráficas se evidencia la desventaja de un gran peso en el kart. Debido a que parte de la potencia del motor se debe usar en transportar el peso, se compromete la velocidad máxima alcanzada. Mientras que para esta misma relación con menores pesos se alcanzaba la misma velocidad máxima que con la relación de fuerza, en este caso obtenemos que ya no se alcanza la misma velocidad."
   ]
  },
  {
   "cell_type": "markdown",
   "metadata": {},
   "source": [
    "## Relación de 0.69:1 y masa de 220kg"
   ]
  },
  {
   "cell_type": "code",
   "execution_count": null,
   "metadata": {},
   "outputs": [],
   "source": [
    "plt.plot(t, p, 'g', label='Posición (t)')\n",
    "plt.legend(loc='best')\n",
    "plt.xlabel('t(s)')\n",
    "plt.ylabel('Posición(m)')\n",
    "plt.grid()\n",
    "plt.show()"
   ]
  },
  {
   "cell_type": "code",
   "execution_count": null,
   "metadata": {},
   "outputs": [],
   "source": [
    "plt.plot(t, v, 'b', label='Velocidad (t)')\n",
    "plt.legend(loc='best')\n",
    "plt.xlabel('t(s)')\n",
    "plt.ylabel('Velocidad(m/s)')\n",
    "plt.grid()\n",
    "plt.show()"
   ]
  },
  {
   "cell_type": "code",
   "execution_count": null,
   "metadata": {},
   "outputs": [],
   "source": [
    "plt.plot(t, a, 'r', label='Aceleración (t)')\n",
    "plt.legend(loc='best')\n",
    "plt.xlabel('t(s)')\n",
    "plt.ylabel('Aceleración(m/s^2)')\n",
    "plt.grid()\n",
    "plt.show()"
   ]
  },
  {
   "cell_type": "markdown",
   "metadata": {},
   "source": [
    "Finalmente, tenemos el peor desempeño. Debido a que esta relación da prioridad a mantener velocidad de giro y no a la transmisión de potencia, las velocidades alcanzadas son muy pequeñas, y las aceleraciones también. Aunque vemos que se necesita muy poco tiempo para realizar el recorrido, esto se debe a que las velocidades no son significantes."
   ]
  },
  {
   "cell_type": "markdown",
   "metadata": {},
   "source": [
    "A partir del análisis de las gráficas podemos enunciar una serie de hallazgos y conclusiones sobre el desempeño de karts eléctricos:\n",
    "\n",
    "- Al momento de elegir una relación en vehículos eléctricos, es importante darle prioridad no a la velocidad de giro sino a la transmisión de potencia. Esto es, el número de dientes del piñón debe ser bajo, mientras que el del plato grande.\n",
    "- Por ejemplo, los vehículos eléctricos Tesla usan relaciones de 9.73:1 o 9.31:1, dependiendo del tamaño del vehículo.\n",
    "- El peso del vehículo tiene los siguientes efectos sobre el vehículo: cuando las relaciones de transmisión no son lo suficientemente grandes, se malgasta potencia del vehículo en mover el peso extra. Cuando se tiene una relación de transmisión adecuada, el peso afecta los tiempos en los cuales se alcanza la velocidad máxima y de frenado del vehículo.\n",
    "- Por lo tanto, es necesario reducir el peso del vehículo en lo posible, y/o tener pilotos ligeros.\n",
    "- Con un modelo más completo que incorpore fuerzas de frenado en las llantas, se pueden obtener mejores tiempos de frenado."
   ]
  }
 ],
 "metadata": {
  "kernelspec": {
   "display_name": "Python 3.6",
   "language": "python",
   "name": "python36"
  },
  "language_info": {
   "codemirror_mode": {
    "name": "ipython",
    "version": 3
   },
   "file_extension": ".py",
   "mimetype": "text/x-python",
   "name": "python",
   "nbconvert_exporter": "python",
   "pygments_lexer": "ipython3",
   "version": "3.6.3"
  }
 },
 "nbformat": 4,
 "nbformat_minor": 2
}
