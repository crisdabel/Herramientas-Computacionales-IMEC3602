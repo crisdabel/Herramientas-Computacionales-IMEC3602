{
 "cells": [
  {
   "cell_type": "code",
   "execution_count": 2,
   "metadata": {},
   "outputs": [
    {
     "name": "stdout",
     "output_type": "stream",
     "text": [
      "Populating the interactive namespace from numpy and matplotlib\n"
     ]
    }
   ],
   "source": [
    "%pylab inline\n",
    "import scipy as sp"
   ]
  },
  {
   "cell_type": "code",
   "execution_count": null,
   "metadata": {},
   "outputs": [],
   "source": [
    "L=20\n",
    "n=128\n",
    "x2= np.linspace(-L/2,L/2,n+1)\n",
    "x=np.array(x2[0:n])\n",
    "u=np.exp(-(x**2))\n",
    "ut=np.fft.fft(u)\n",
    "utshift=np.fft.fftshift(ut)\n",
    "\n",
    "figure(figsize=(15,4))\n",
    "pylab.subplot(2,2,1)\n",
    "pylab.plot(x,u,'-r')\n",
    "pylab.xlabel(\"x\")\n",
    "pylab.ylabel(\"u\")\n",
    "pylab.grid()\n",
    "\n",
    "pylab.subplot(2,2,1)\n",
    "pylab.plot(x,u,'-r')"
   ]
  }
 ],
 "metadata": {
  "kernelspec": {
   "display_name": "Python 3.6",
   "language": "python",
   "name": "python36"
  },
  "language_info": {
   "codemirror_mode": {
    "name": "ipython",
    "version": 3
   },
   "file_extension": ".py",
   "mimetype": "text/x-python",
   "name": "python",
   "nbconvert_exporter": "python",
   "pygments_lexer": "ipython3",
   "version": "3.6.3"
  }
 },
 "nbformat": 4,
 "nbformat_minor": 2
}
